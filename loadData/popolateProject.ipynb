{
 "cells": [
  {
   "cell_type": "code",
   "execution_count": 1,
   "id": "b3b265cb",
   "metadata": {},
   "outputs": [],
   "source": [
    "# required libraries\n",
    "import pandas as pd\n",
    "import os\n",
    "from pathlib import Path\n",
    "# Load the required libraries\n",
    "from rdflib import Graph, Literal, RDF, URIRef, Namespace\n",
    "# rdflib knows about some namespaces, like FOAF\n",
    "from rdflib.namespace import FOAF, XSD\n",
    "# CHECK DATE \n",
    "import datetime"
   ]
  },
  {
   "cell_type": "code",
   "execution_count": 3,
   "id": "b7dfa064",
   "metadata": {},
   "outputs": [],
   "source": [
    "# parameters and URLs\n",
    "path = str(Path(os.path.abspath(os.getcwd())).parent.absolute())\n",
    "appearancesUrl = path + '/Database 2/data/transfmrkt/appearances.csv'\n",
    "clubGamesUrl = path + '/Database 2/data/transfmrkt/club_games.csv'\n",
    "clubsUrl = path + '/Database 2/data/transfmrkt/clubs.csv'\n",
    "competitionsUrl = path + '/Database 2/data/transfmrkt/competitions.csv'\n",
    "gameEventsUrl = path + '/Database 2/data/transfmrkt/game_events.csv'\n",
    "gameLineupssUrl = path + '/Database 2/data/transfmrkt/game_lineups.csv'\n",
    "gamesUrl = path + '/Database 2/data/transfmrkt/games.csv'\n",
    "playerValutationsUrl = path + '/Database 2/data/transfmrkt/player_valutation.csv'\n",
    "playersUrl = path + '/Database 2/data/transfmrkt/players.csv'\n",
    "stats1415Url = path + '/Database 2/data/transfmrkt/stats_2014-2015.csv'\n",
    "stats1516Url = path + '/Database 2/data/transfmrkt/stats_2015-2016.csv'\n",
    "stats1617Url = path + '/Database 2/data/transfmrkt/stats_2016-2017.csv'\n",
    "stats1718Url = path + '/Database 2/data/transfmrkt/stats_2017-2018.csv'\n",
    "stats1819Url = path + '/Database 2/data/transfmrkt/stats_2018-2019.csv'\n",
    "stats1920Url = path + '/Database 2/data/transfmrkt/stats_2019-2020.csv'\n",
    "\n",
    "# country codes\n",
    "countriesURL = path + '/Database 2/data/countryCodes/wikipedia-iso-country-codes.csv'\n",
    "\n",
    "# saving folder\n",
    "savePath =  path + '/Database 2/data/rdf/soccerDB/'"
   ]
  },
  {
   "cell_type": "code",
   "execution_count": 4,
   "id": "32ecf47d",
   "metadata": {},
   "outputs": [],
   "source": [
    "# Construct the country and the soccer ontology namespaces not known by RDFlib\n",
    "CNS = Namespace(\"http://eulersharp.sourceforge.net/2003/03swap/countries#\")\n",
    "SO = Namespace(\"http://www.dei.unipd.it/db2/dcsso#\")"
   ]
  },
  {
   "cell_type": "markdown",
   "id": "39e64830",
   "metadata": {},
   "source": [
    "## Leagues"
   ]
  },
  {
   "cell_type": "code",
   "execution_count": 5,
   "id": "e1b45d34",
   "metadata": {},
   "outputs": [],
   "source": [
    "# Load the CSV files in memory\n",
    "competitions = pd.read_csv(competitionsUrl, sep=',', index_col='competition_id')"
   ]
  },
  {
   "cell_type": "code",
   "execution_count": 6,
   "id": "a55c712b",
   "metadata": {},
   "outputs": [],
   "source": [
    "#create the graph\n",
    "g = Graph()\n",
    "\n",
    "# Bind the namespaces to a prefix for more readable output\n",
    "g.bind(\"foaf\", FOAF)\n",
    "g.bind(\"xsd\", XSD)\n",
    "g.bind(\"countries\", CNS)\n",
    "g.bind(\"so\", SO)"
   ]
  },
  {
   "cell_type": "code",
   "execution_count": 9,
   "id": "1ac07526",
   "metadata": {},
   "outputs": [
    {
     "name": "stdout",
     "output_type": "stream",
     "text": [
      "competitionCIT\n",
      "competitionNLSC\n",
      "competitionGRP\n",
      "competitionPOSU\n",
      "competitionRUSS\n",
      "competitionSUC\n",
      "competitionUSC\n",
      "competitionDK1\n",
      "competitionEL\n",
      "competitionES1\n",
      "competitionFR1\n",
      "competitionIT1\n",
      "competitionNL1\n",
      "competitionRUP\n",
      "competitionPO1\n",
      "competitionBESC\n",
      "competitionGB1\n",
      "competitionELQ\n",
      "competitionCGB\n",
      "competitionDKP\n",
      "competitionECLQ\n",
      "competitionFAC\n",
      "competitionNLP\n",
      "competitionUKRS\n",
      "competitionUKR1\n",
      "competitionCDR\n",
      "competitionCL\n",
      "competitionGR1\n",
      "competitionTR1\n",
      "competitionPOCP\n",
      "competitionGBCS\n",
      "competitionKLUB\n",
      "competitionL1\n",
      "competitionRU1\n",
      "competitionSC1\n",
      "competitionSCI\n",
      "competitionBE1\n",
      "competitionCLQ\n",
      "competitionDFL\n",
      "competitionSFA\n",
      "competitionUKRP\n",
      "competitionDFB\n",
      "competitionFRCH\n",
      "CPU times: total: 0 ns\n",
      "Wall time: 11 ms\n"
     ]
    }
   ],
   "source": [
    "%%time \n",
    "#measure execution time\n",
    "\n",
    "#iterate over the competitions dataframe\n",
    "for index, row in competitions.iterrows():\n",
    "    # Create the node to add to the Graph\n",
    "    # the node has the namespace + the competition id as URI\n",
    "    idU = \"competition\"+str(index)\n",
    "    print(idU)\n",
    "    Competition = URIRef(SO[idU])\n",
    "    # Add triples using store's add() method.\n",
    "    g.add((Competition, RDF.type, SO.Competition))\n",
    "    g.add((Competition, SO['name'], Literal(row['name'], datatype=XSD.string)))    \n",
    "    # create the RDF node\n",
    "    Country = URIRef(CNS[row['country_id']])\n",
    "    # add the edge connecting the Competition and the Country \n",
    "    g.add((Competition, SO['country_id'], Country))    "
   ]
  },
  {
   "cell_type": "code",
   "execution_count": null,
   "id": "f1b2365c",
   "metadata": {},
   "outputs": [],
   "source": []
  }
 ],
 "metadata": {
  "kernelspec": {
   "display_name": "Python 3 (ipykernel)",
   "language": "python",
   "name": "python3"
  },
  "language_info": {
   "codemirror_mode": {
    "name": "ipython",
    "version": 3
   },
   "file_extension": ".py",
   "mimetype": "text/x-python",
   "name": "python",
   "nbconvert_exporter": "python",
   "pygments_lexer": "ipython3",
   "version": "3.9.12"
  }
 },
 "nbformat": 4,
 "nbformat_minor": 5
}
